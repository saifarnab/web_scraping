{
 "cells": [
  {
   "cell_type": "code",
   "execution_count": 1,
   "id": "3e5dfeac",
   "metadata": {},
   "outputs": [
    {
     "name": "stdout",
     "output_type": "stream",
     "text": [
      "Defaulting to user installation because normal site-packages is not writeable\n",
      "Requirement already satisfied: openpyxl in /home/dfs/.local/lib/python3.8/site-packages (3.1.2)\n",
      "Requirement already satisfied: et-xmlfile in /home/dfs/.local/lib/python3.8/site-packages (from openpyxl) (1.1.0)\n",
      "\n",
      "\u001b[1m[\u001b[0m\u001b[34;49mnotice\u001b[0m\u001b[1;39;49m]\u001b[0m\u001b[39;49m A new release of pip is available: \u001b[0m\u001b[31;49m23.1\u001b[0m\u001b[39;49m -> \u001b[0m\u001b[32;49m23.2\u001b[0m\n",
      "\u001b[1m[\u001b[0m\u001b[34;49mnotice\u001b[0m\u001b[1;39;49m]\u001b[0m\u001b[39;49m To update, run: \u001b[0m\u001b[32;49mpython3 -m pip install --upgrade pip\u001b[0m\n",
      "Defaulting to user installation because normal site-packages is not writeable\n",
      "Requirement already satisfied: selenium in /home/dfs/.local/lib/python3.8/site-packages (4.9.1)\n",
      "Requirement already satisfied: urllib3[socks]<3,>=1.26 in /home/dfs/.local/lib/python3.8/site-packages (from selenium) (2.0.2)\n",
      "Requirement already satisfied: trio~=0.17 in /home/dfs/.local/lib/python3.8/site-packages (from selenium) (0.22.0)\n",
      "Requirement already satisfied: trio-websocket~=0.9 in /home/dfs/.local/lib/python3.8/site-packages (from selenium) (0.10.2)\n",
      "Requirement already satisfied: certifi>=2021.10.8 in /home/dfs/.local/lib/python3.8/site-packages (from selenium) (2023.5.7)\n",
      "Requirement already satisfied: attrs>=19.2.0 in /home/dfs/.local/lib/python3.8/site-packages (from trio~=0.17->selenium) (23.1.0)\n",
      "Requirement already satisfied: sortedcontainers in /home/dfs/.local/lib/python3.8/site-packages (from trio~=0.17->selenium) (2.4.0)\n",
      "Requirement already satisfied: async-generator>=1.9 in /home/dfs/.local/lib/python3.8/site-packages (from trio~=0.17->selenium) (1.10)\n",
      "Requirement already satisfied: idna in /home/dfs/.local/lib/python3.8/site-packages (from trio~=0.17->selenium) (3.4)\n",
      "Requirement already satisfied: outcome in /home/dfs/.local/lib/python3.8/site-packages (from trio~=0.17->selenium) (1.2.0)\n",
      "Requirement already satisfied: sniffio in /home/dfs/.local/lib/python3.8/site-packages (from trio~=0.17->selenium) (1.3.0)\n",
      "Requirement already satisfied: exceptiongroup>=1.0.0rc9 in /home/dfs/.local/lib/python3.8/site-packages (from trio~=0.17->selenium) (1.1.1)\n",
      "Requirement already satisfied: wsproto>=0.14 in /home/dfs/.local/lib/python3.8/site-packages (from trio-websocket~=0.9->selenium) (1.2.0)\n",
      "Requirement already satisfied: pysocks!=1.5.7,<2.0,>=1.5.6 in /home/dfs/.local/lib/python3.8/site-packages (from urllib3[socks]<3,>=1.26->selenium) (1.7.1)\n",
      "Requirement already satisfied: h11<1,>=0.9.0 in /home/dfs/.local/lib/python3.8/site-packages (from wsproto>=0.14->trio-websocket~=0.9->selenium) (0.14.0)\n",
      "\n",
      "\u001b[1m[\u001b[0m\u001b[34;49mnotice\u001b[0m\u001b[1;39;49m]\u001b[0m\u001b[39;49m A new release of pip is available: \u001b[0m\u001b[31;49m23.1\u001b[0m\u001b[39;49m -> \u001b[0m\u001b[32;49m23.2\u001b[0m\n",
      "\u001b[1m[\u001b[0m\u001b[34;49mnotice\u001b[0m\u001b[1;39;49m]\u001b[0m\u001b[39;49m To update, run: \u001b[0m\u001b[32;49mpython3 -m pip install --upgrade pip\u001b[0m\n"
     ]
    }
   ],
   "source": [
    "!pip install openpyxl\n",
    "!pip install selenium\n",
    "\n",
    "import pandas as pd\n",
    "import openpyxl\n",
    "import time \n",
    "from selenium import webdriver\n",
    "from selenium.webdriver import Keys\n",
    "from selenium.webdriver.common.by import By"
   ]
  },
  {
   "cell_type": "code",
   "execution_count": 2,
   "id": "2efd7bfe",
   "metadata": {},
   "outputs": [],
   "source": [
    "file_path = \"extracted_data_clothing.xlsx\"\n",
    "df = pd.read_excel(file_path)\n",
    "companies = df['Company Name']\n",
    "headers = df.columns.tolist()\n",
    "column_index = 0\n",
    "for index, header in enumerate(headers):\n",
    "    if header.strip() == 'Result':\n",
    "        column_index = index + 1"
   ]
  },
  {
   "cell_type": "code",
   "execution_count": 3,
   "id": "0bd09f21",
   "metadata": {},
   "outputs": [],
   "source": [
    "chrome_options = webdriver.ChromeOptions()\n",
    "chrome_options.add_argument(\"log-level=3\")\n",
    "chrome_options.add_argument('--ignore-certificate-errors')\n",
    "chrome_options.add_argument('--allow-running-insecure-content')\n",
    "chrome_options.add_argument(\"--disable-infobars\")\n",
    "chrome_options.add_argument(\"--start-miniimized\")\n",
    "chrome_options.add_argument(\"--disable-extensions\")\n",
    "chrome_options.add_argument(\"--window-size=1920,1080\")\n",
    "chrome_options.add_argument('--headless')\n",
    "driver = webdriver.Chrome(options=chrome_options)"
   ]
  },
  {
   "cell_type": "code",
   "execution_count": 4,
   "id": "79ba8c58",
   "metadata": {},
   "outputs": [],
   "source": [
    "driver.get('https://sasb.org/standards/materiality-finder/find/')\n",
    "search_box = driver.find_element(By.XPATH, '//input[@data-testid=\"company-search-form-input\"]')\n",
    "search_box.clear()"
   ]
  },
  {
   "cell_type": "code",
   "execution_count": null,
   "id": "fe2c2f47",
   "metadata": {},
   "outputs": [
    {
     "name": "stdout",
     "output_type": "stream",
     "text": [
      "1 -> A.K. Spintex Ltd. -> Found\n",
      "2 -> Aananda Lakshmi Spinning Mills Ltd. -> Found\n",
      "3 -> Aarnav Fashions Ltd. -> Not Found\n",
      "4 -> Aarvee Denims & Exports Ltd. -> Found\n",
      "5 -> ABC-Mart Inc. -> Found\n",
      "6 -> Acelon Chemicals & Fiber Corp. -> Found\n",
      "7 -> Acknit Industries Ltd. -> Found\n",
      "8 -> Active Clothing Co. Ltd. -> Found\n",
      "9 -> Addi Industries Ltd. -> Found\n",
      "10 -> adidas AG -> Found\n",
      "11 -> adidas AG -> Found\n"
     ]
    }
   ],
   "source": [
    "words_to_remove = ['.', 's.p.a.']\n",
    "\n",
    "def update_excel_cell(row_index, new_data):\n",
    "    try:\n",
    "        workbook = openpyxl.load_workbook(file_path)\n",
    "        sheet = workbook.active\n",
    "        cell = sheet.cell(row=row_index, column=column_index)\n",
    "        cell.value = new_data\n",
    "\n",
    "        workbook.save(file_path)\n",
    "    except Exception as e:\n",
    "        print(f\"An error occurred: {e}\")\n",
    "        \n",
    "def remove_right_portion(sentence, words_to_remove):\n",
    "    for word in words_to_remove:\n",
    "        idx = sentence.find(word)\n",
    "        if idx != -1:\n",
    "            sentence = sentence[:idx]\n",
    "            break\n",
    "    return sentence\n",
    "\n",
    "for row, name in enumerate(companies):\n",
    "    filtered_name = remove_right_portion(name.lower(), words_to_remove)\n",
    "    search_box.clear()\n",
    "    search_box.send_keys(filtered_name.strip())\n",
    "    driver.find_element(By.XPATH, '//button[@data-testid=\"company-search-form-submit\"]').click()\n",
    "    time.sleep(3)\n",
    "    result = driver.find_element(By.XPATH, '//div[@role=\"status\"]').text\n",
    "    if 'Found' in result:\n",
    "        update_excel_cell(row+2, 'Found')\n",
    "        print(f'{row+1} -> {name} -> Found')\n",
    "    else:\n",
    "        update_excel_cell(row+2, 'Not Found')\n",
    "        print(f'{row+1} -> {name} -> Not Found')\n",
    "    \n",
    "        \n",
    "\n",
    "    "
   ]
  },
  {
   "cell_type": "code",
   "execution_count": null,
   "id": "fabc03c2",
   "metadata": {},
   "outputs": [],
   "source": []
  }
 ],
 "metadata": {
  "kernelspec": {
   "display_name": "Python 3 (ipykernel)",
   "language": "python",
   "name": "python3"
  },
  "language_info": {
   "codemirror_mode": {
    "name": "ipython",
    "version": 3
   },
   "file_extension": ".py",
   "mimetype": "text/x-python",
   "name": "python",
   "nbconvert_exporter": "python",
   "pygments_lexer": "ipython3",
   "version": "3.8.10"
  }
 },
 "nbformat": 4,
 "nbformat_minor": 5
}
