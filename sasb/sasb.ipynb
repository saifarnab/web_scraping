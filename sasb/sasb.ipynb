{
 "cells": [
  {
   "cell_type": "code",
   "execution_count": null,
   "id": "3e5dfeac",
   "metadata": {},
   "outputs": [],
   "source": [
    "!pip install openpyxl\n",
    "!pip install selenium\n",
    "\n",
    "import pandas as pd\n",
    "import random\n",
    "import openpyxl\n",
    "import time \n",
    "from selenium import webdriver\n",
    "from selenium.webdriver import Keys\n",
    "from selenium.webdriver.common.by import By"
   ]
  },
  {
   "cell_type": "code",
   "execution_count": null,
   "id": "2efd7bfe",
   "metadata": {},
   "outputs": [],
   "source": [
    "input_file_path = \"extracted_data_clothing.xlsx\"\n",
    "df = pd.read_excel(input_file_path)"
   ]
  },
  {
   "cell_type": "code",
   "execution_count": null,
   "id": "0bd09f21",
   "metadata": {},
   "outputs": [],
   "source": [
    "chrome_options = webdriver.ChromeOptions()\n",
    "chrome_options.add_argument(\"log-level=3\")\n",
    "chrome_options.add_argument('--ignore-certificate-errors')\n",
    "chrome_options.add_argument('--allow-running-insecure-content')\n",
    "chrome_options.add_argument(\"--disable-infobars\")\n",
    "chrome_options.add_argument(\"--start-miniimized\")\n",
    "chrome_options.add_argument(\"--disable-extensions\")\n",
    "chrome_options.add_argument(\"--window-size=1920,1080\")\n",
    "chrome_options.add_argument('--headless')\n",
    "driver = webdriver.Chrome(options=chrome_options)"
   ]
  },
  {
   "cell_type": "code",
   "execution_count": null,
   "id": "79ba8c58",
   "metadata": {},
   "outputs": [],
   "source": [
    "driver.get('https://sasb.org/standards/materiality-finder/find/')\n",
    "search_box = driver.find_element(By.XPATH, '//input[@data-testid=\"company-search-form-input\"]')\n",
    "search_box.clear()"
   ]
  },
  {
   "cell_type": "code",
   "execution_count": null,
   "id": "275b5ba2",
   "metadata": {},
   "outputs": [],
   "source": [
    "workbook = openpyxl.Workbook()\n",
    "sheet = workbook.active\n",
    "sheet.append(['Company Name', 'Sales revenue', 'Found in SASB'])\n",
    "output_file = 'data_' + str(random.randint(1, 1111)) + '.xlsx'\n",
    "workbook.save(output_file)"
   ]
  },
  {
   "cell_type": "code",
   "execution_count": null,
   "id": "fe2c2f47",
   "metadata": {},
   "outputs": [],
   "source": [
    "def append_to_excel(data):\n",
    "    workbook = openpyxl.load_workbook(output_file)\n",
    "    sheet = workbook.active\n",
    "    for row in data:\n",
    "        sheet.append(row)\n",
    "    workbook.save(output_file)\n",
    "        \n",
    "def remove_right_portion_if_word_found(input_string):\n",
    "    word = 'Ltd'\n",
    "    index = input_string.find(word)\n",
    "    if index != -1:  \n",
    "        input_string = input_string[:index]  \n",
    "    return input_string\n",
    "\n",
    "for ind in df.index:\n",
    "    company_name = df['Company Name'][ind]\n",
    "    filtered_name = company_name.replace('.', '').strip()\n",
    "    filtered_name = remove_right_portion_if_word_found(filtered_name)\n",
    "    search_box.clear()\n",
    "    search_box.send_keys(filtered_name.strip())\n",
    "    driver.find_element(By.XPATH, '//button[@data-testid=\"company-search-form-submit\"]').click()\n",
    "    time.sleep(3)\n",
    "    result = driver.find_element(By.XPATH, '//div[@role=\"status\"]').text\n",
    "    if 'Found' in result:\n",
    "        append_to_excel([[company_name, df['Sales revenue'][ind], 'Yes']])\n",
    "        print(f'{company_name} -> Found')\n",
    "    else:\n",
    "        append_to_excel([[company_name, df['Sales revenue'][ind], 'No']])\n",
    "        print(f'{company_name} -> Not Found')"
   ]
  },
  {
   "cell_type": "code",
   "execution_count": null,
   "id": "fabc03c2",
   "metadata": {},
   "outputs": [],
   "source": []
  }
 ],
 "metadata": {
  "kernelspec": {
   "display_name": "Python 3 (ipykernel)",
   "language": "python",
   "name": "python3"
  },
  "language_info": {
   "codemirror_mode": {
    "name": "ipython",
    "version": 3
   },
   "file_extension": ".py",
   "mimetype": "text/x-python",
   "name": "python",
   "nbconvert_exporter": "python",
   "pygments_lexer": "ipython3",
   "version": "3.9.7"
  }
 },
 "nbformat": 4,
 "nbformat_minor": 5
}
