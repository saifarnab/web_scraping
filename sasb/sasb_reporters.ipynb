{
 "cells": [
  {
   "cell_type": "code",
   "execution_count": 1,
   "id": "ac182ed3",
   "metadata": {},
   "outputs": [
    {
     "name": "stdout",
     "output_type": "stream",
     "text": [
      "Requirement already satisfied: openpyxl in /home/dfs/anaconda3/lib/python3.9/site-packages (3.0.9)\n",
      "Requirement already satisfied: et-xmlfile in /home/dfs/anaconda3/lib/python3.9/site-packages (from openpyxl) (1.1.0)\n",
      "Requirement already satisfied: selenium in /home/dfs/anaconda3/lib/python3.9/site-packages (4.10.0)\n",
      "Requirement already satisfied: trio~=0.17 in /home/dfs/anaconda3/lib/python3.9/site-packages (from selenium) (0.22.2)\n",
      "Requirement already satisfied: urllib3[socks]<3,>=1.26 in /home/dfs/anaconda3/lib/python3.9/site-packages (from selenium) (1.26.7)\n",
      "Requirement already satisfied: trio-websocket~=0.9 in /home/dfs/anaconda3/lib/python3.9/site-packages (from selenium) (0.10.3)\n",
      "Requirement already satisfied: certifi>=2021.10.8 in /home/dfs/anaconda3/lib/python3.9/site-packages (from selenium) (2021.10.8)\n",
      "Requirement already satisfied: idna in /home/dfs/anaconda3/lib/python3.9/site-packages (from trio~=0.17->selenium) (3.2)\n",
      "Requirement already satisfied: exceptiongroup>=1.0.0rc9 in /home/dfs/anaconda3/lib/python3.9/site-packages (from trio~=0.17->selenium) (1.1.2)\n",
      "Requirement already satisfied: attrs>=20.1.0 in /home/dfs/anaconda3/lib/python3.9/site-packages (from trio~=0.17->selenium) (21.2.0)\n",
      "Requirement already satisfied: sortedcontainers in /home/dfs/anaconda3/lib/python3.9/site-packages (from trio~=0.17->selenium) (2.4.0)\n",
      "Requirement already satisfied: outcome in /home/dfs/anaconda3/lib/python3.9/site-packages (from trio~=0.17->selenium) (1.2.0)\n",
      "Requirement already satisfied: sniffio in /home/dfs/anaconda3/lib/python3.9/site-packages (from trio~=0.17->selenium) (1.2.0)\n",
      "Requirement already satisfied: wsproto>=0.14 in /home/dfs/anaconda3/lib/python3.9/site-packages (from trio-websocket~=0.9->selenium) (1.2.0)\n",
      "Requirement already satisfied: PySocks!=1.5.7,<2.0,>=1.5.6 in /home/dfs/anaconda3/lib/python3.9/site-packages (from urllib3[socks]<3,>=1.26->selenium) (1.7.1)\n",
      "Requirement already satisfied: h11<1,>=0.9.0 in /home/dfs/anaconda3/lib/python3.9/site-packages (from wsproto>=0.14->trio-websocket~=0.9->selenium) (0.14.0)\n"
     ]
    }
   ],
   "source": [
    "!pip install openpyxl\n",
    "!pip install selenium\n",
    "\n",
    "import pandas as pd\n",
    "import random\n",
    "import openpyxl\n",
    "import time \n",
    "from selenium import webdriver\n",
    "from selenium.webdriver import Keys\n",
    "from selenium.webdriver.common.by import By\n",
    "from selenium.webdriver.support import expected_conditions as EC\n",
    "from selenium.webdriver.support.wait import WebDriverWait"
   ]
  },
  {
   "cell_type": "code",
   "execution_count": 2,
   "id": "c2859ea2",
   "metadata": {},
   "outputs": [],
   "source": [
    "input_file_path = \"extracted_data_clothing.xlsx\"\n",
    "df = pd.read_excel(input_file_path)"
   ]
  },
  {
   "cell_type": "code",
   "execution_count": 3,
   "id": "a2284831",
   "metadata": {},
   "outputs": [],
   "source": [
    "chrome_options = webdriver.ChromeOptions()\n",
    "chrome_options.add_argument(\"log-level=3\")\n",
    "chrome_options.add_argument('--ignore-certificate-errors')\n",
    "chrome_options.add_argument('--allow-running-insecure-content')\n",
    "chrome_options.add_argument(\"--disable-infobars\")\n",
    "chrome_options.add_argument(\"--start-miniimized\")\n",
    "chrome_options.add_argument(\"--disable-extensions\")\n",
    "chrome_options.add_argument(\"--window-size=1920,1080\")\n",
    "# chrome_options.add_argument('--headless')\n",
    "driver = webdriver.Chrome(options=chrome_options)\n",
    "driver.get('https://sasb.org/company-use/sasb-reporters/')"
   ]
  },
  {
   "cell_type": "code",
   "execution_count": 4,
   "id": "d27a723e",
   "metadata": {},
   "outputs": [],
   "source": [
    "workbook = openpyxl.Workbook()\n",
    "sheet = workbook.active\n",
    "sheet.append(['Company name', 'Industry', 'Sector', 'Country', 'Type of Document', 'Report Period', 'Found in SASB'])\n",
    "output_file = 'data_' + str(random.randint(1, 1111)) + '.xlsx'\n",
    "workbook.save(output_file)"
   ]
  },
  {
   "cell_type": "code",
   "execution_count": 5,
   "id": "76c3716a",
   "metadata": {},
   "outputs": [],
   "source": [
    "def append_to_excel(data):\n",
    "    workbook = openpyxl.load_workbook(output_file)\n",
    "    sheet = workbook.active\n",
    "    for row in data:\n",
    "        sheet.append(row)\n",
    "    workbook.save(output_file)"
   ]
  },
  {
   "cell_type": "code",
   "execution_count": null,
   "id": "6a713d34",
   "metadata": {},
   "outputs": [
    {
     "name": "stdout",
     "output_type": "stream",
     "text": [
      "A.K. Spintex Ltd. -> Not Found\n",
      "Aananda Lakshmi Spinning Mills Ltd. -> Not Found\n",
      "Aarnav Fashions Ltd. -> Not Found\n",
      "Aarvee Denims & Exports Ltd. -> Not Found\n",
      "ABC-Mart Inc. -> Not Found\n",
      "Acelon Chemicals & Fiber Corp. -> Not Found\n",
      "Acknit Industries Ltd. -> Not Found\n",
      "Active Clothing Co. Ltd. -> Not Found\n",
      "Addi Industries Ltd. -> Not Found\n",
      "adidas AG -> Found\n",
      "adidas AG -> Found\n",
      "adidas AG -> Found\n",
      "adidas AG -> Found\n",
      "adidas AG -> Found\n"
     ]
    }
   ],
   "source": [
    "search_box = driver.find_element(By.ID, 'reports_filter_search')\n",
    "\n",
    "for ind in df.index:\n",
    "    company_name = df['Company Name'][ind]\n",
    "    search_box.clear()\n",
    "    time.sleep(3)\n",
    "    search_box.send_keys(company_name.strip())\n",
    "    time.sleep(1)\n",
    "    search_box.send_keys(Keys.RETURN)\n",
    "    search_box.send_keys(Keys.RETURN)\n",
    "    time.sleep(3)\n",
    "    \n",
    "    try:\n",
    "        WebDriverWait(driver, 1).until(EC.visibility_of_element_located((By.XPATH, '//tr[@class=\"border-b\"]')))\n",
    "        trs = driver.find_elements(By.XPATH, '//tr[@class=\"border-b\"]')\n",
    "        for no, tr in enumerate(trs):\n",
    "            tds = tr.find_elements(By.XPATH, './/td')\n",
    "            temp = []\n",
    "            for td in tds:\n",
    "                temp.append(td.text)\n",
    "            temp.append('Yes')\n",
    "            if company_name.strip() == temp[0].strip():\n",
    "                append_to_excel([temp])\n",
    "                print(f'{company_name} -> Found')\n",
    "            else:\n",
    "                append_to_excel([[company_name, '', '', '', '', '', 'No']])\n",
    "                print(f'{company_name} -> Not Found')\n",
    "            break\n",
    "    except:\n",
    "        append_to_excel([[company_name, '', '', '', '', '', 'No']])\n",
    "        print(f'{company_name} -> Not Found')"
   ]
  },
  {
   "cell_type": "code",
   "execution_count": null,
   "id": "976f71d0",
   "metadata": {},
   "outputs": [],
   "source": []
  }
 ],
 "metadata": {
  "kernelspec": {
   "display_name": "Python 3 (ipykernel)",
   "language": "python",
   "name": "python3"
  },
  "language_info": {
   "codemirror_mode": {
    "name": "ipython",
    "version": 3
   },
   "file_extension": ".py",
   "mimetype": "text/x-python",
   "name": "python",
   "nbconvert_exporter": "python",
   "pygments_lexer": "ipython3",
   "version": "3.9.7"
  }
 },
 "nbformat": 4,
 "nbformat_minor": 5
}
