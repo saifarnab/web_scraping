{
 "cells": [
  {
   "cell_type": "code",
   "execution_count": null,
   "id": "ac182ed3",
   "metadata": {},
   "outputs": [],
   "source": [
    "!pip install openpyxl\n",
    "!pip install selenium\n",
    "\n",
    "import pandas as pd\n",
    "import random\n",
    "import openpyxl\n",
    "import time \n",
    "from selenium import webdriver\n",
    "from selenium.webdriver import Keys\n",
    "from selenium.webdriver.common.by import By"
   ]
  },
  {
   "cell_type": "code",
   "execution_count": null,
   "id": "f620d151",
   "metadata": {},
   "outputs": [],
   "source": [
    "input_file_path = \"extracted_data_clothing.xlsx\"\n",
    "df = pd.read_excel(input_file_path)"
   ]
  },
  {
   "cell_type": "code",
   "execution_count": null,
   "id": "a2284831",
   "metadata": {},
   "outputs": [],
   "source": [
    "chrome_options = webdriver.ChromeOptions()\n",
    "chrome_options.add_argument(\"log-level=3\")\n",
    "chrome_options.add_argument('--ignore-certificate-errors')\n",
    "chrome_options.add_argument('--allow-running-insecure-content')\n",
    "chrome_options.add_argument(\"--disable-infobars\")\n",
    "chrome_options.add_argument(\"--start-miniimized\")\n",
    "chrome_options.add_argument(\"--disable-extensions\")\n",
    "chrome_options.add_argument(\"--window-size=1920,1080\")\n",
    "chrome_options.add_argument('--headless')\n",
    "driver = webdriver.Chrome(options=chrome_options)\n",
    "driver.get('https://sasb.org/company-use/sasb-reporters/')"
   ]
  },
  {
   "cell_type": "code",
   "execution_count": null,
   "id": "d27a723e",
   "metadata": {},
   "outputs": [],
   "source": [
    "workbook = openpyxl.Workbook()\n",
    "sheet = workbook.active\n",
    "sheet.append(['Company name', 'Industry', 'Sector', 'Country', 'Type of Document', 'Report Period'])\n",
    "output_file = 'data_' + str(random.randint(1, 1111)) + '.xlsx'\n",
    "workbook.save(output_file)"
   ]
  },
  {
   "cell_type": "code",
   "execution_count": null,
   "id": "76c3716a",
   "metadata": {},
   "outputs": [],
   "source": [
    "def append_to_excel(data):\n",
    "    workbook = openpyxl.load_workbook(output_file)\n",
    "    sheet = workbook.active\n",
    "    for row in data:\n",
    "        sheet.append(row)\n",
    "    workbook.save(output_file)"
   ]
  },
  {
   "cell_type": "code",
   "execution_count": null,
   "id": "6a713d34",
   "metadata": {},
   "outputs": [],
   "source": [
    "trs = driver.find_elements(By.XPATH, '//tr[@class=\"border-b\"]')\n",
    "for no, tr in enumerate(trs):\n",
    "    tds = tr.find_elements(By.XPATH, './/td')\n",
    "    temp = []\n",
    "    for td in tds:\n",
    "        temp.append(td.text)\n",
    "    append_to_excel([temp])\n",
    "    print(f'{no+1}. {temp[0]} -> inserted')"
   ]
  },
  {
   "cell_type": "code",
   "execution_count": null,
   "id": "976f71d0",
   "metadata": {},
   "outputs": [],
   "source": []
  }
 ],
 "metadata": {
  "kernelspec": {
   "display_name": "Python 3 (ipykernel)",
   "language": "python",
   "name": "python3"
  },
  "language_info": {
   "codemirror_mode": {
    "name": "ipython",
    "version": 3
   },
   "file_extension": ".py",
   "mimetype": "text/x-python",
   "name": "python",
   "nbconvert_exporter": "python",
   "pygments_lexer": "ipython3",
   "version": "3.9.7"
  }
 },
 "nbformat": 4,
 "nbformat_minor": 5
}
